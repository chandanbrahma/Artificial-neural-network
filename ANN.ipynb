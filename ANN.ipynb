{
 "cells": [
  {
   "cell_type": "markdown",
   "metadata": {},
   "source": [
    "# About the dataset"
   ]
  },
  {
   "cell_type": "markdown",
   "metadata": {},
   "source": [
    "In the dataset we have 14 columns where we need to predict that wheather the customer will exit the bank or not."
   ]
  },
  {
   "cell_type": "markdown",
   "metadata": {},
   "source": [
    "# Data preprocessing"
   ]
  },
  {
   "cell_type": "code",
   "execution_count": 1,
   "metadata": {},
   "outputs": [],
   "source": [
    "import numpy as np\n",
    "import matplotlib.pyplot as plt\n",
    "import pandas as pd"
   ]
  },
  {
   "cell_type": "code",
   "execution_count": 37,
   "metadata": {},
   "outputs": [],
   "source": [
    "dataset= pd.read_csv('E:\\\\Complete-Deep-Learning-master\\\\ANN\\\\Churn_Modelling.csv')"
   ]
  },
  {
   "cell_type": "code",
   "execution_count": 38,
   "metadata": {},
   "outputs": [
    {
     "data": {
      "text/html": [
       "<div>\n",
       "<style scoped>\n",
       "    .dataframe tbody tr th:only-of-type {\n",
       "        vertical-align: middle;\n",
       "    }\n",
       "\n",
       "    .dataframe tbody tr th {\n",
       "        vertical-align: top;\n",
       "    }\n",
       "\n",
       "    .dataframe thead th {\n",
       "        text-align: right;\n",
       "    }\n",
       "</style>\n",
       "<table border=\"1\" class=\"dataframe\">\n",
       "  <thead>\n",
       "    <tr style=\"text-align: right;\">\n",
       "      <th></th>\n",
       "      <th>RowNumber</th>\n",
       "      <th>CustomerId</th>\n",
       "      <th>Surname</th>\n",
       "      <th>CreditScore</th>\n",
       "      <th>Geography</th>\n",
       "      <th>Gender</th>\n",
       "      <th>Age</th>\n",
       "      <th>Tenure</th>\n",
       "      <th>Balance</th>\n",
       "      <th>NumOfProducts</th>\n",
       "      <th>HasCrCard</th>\n",
       "      <th>IsActiveMember</th>\n",
       "      <th>EstimatedSalary</th>\n",
       "      <th>Exited</th>\n",
       "    </tr>\n",
       "  </thead>\n",
       "  <tbody>\n",
       "    <tr>\n",
       "      <th>0</th>\n",
       "      <td>1</td>\n",
       "      <td>15634602</td>\n",
       "      <td>Hargrave</td>\n",
       "      <td>619</td>\n",
       "      <td>France</td>\n",
       "      <td>Female</td>\n",
       "      <td>42</td>\n",
       "      <td>2</td>\n",
       "      <td>0.00</td>\n",
       "      <td>1</td>\n",
       "      <td>1</td>\n",
       "      <td>1</td>\n",
       "      <td>101348.88</td>\n",
       "      <td>1</td>\n",
       "    </tr>\n",
       "    <tr>\n",
       "      <th>1</th>\n",
       "      <td>2</td>\n",
       "      <td>15647311</td>\n",
       "      <td>Hill</td>\n",
       "      <td>608</td>\n",
       "      <td>Spain</td>\n",
       "      <td>Female</td>\n",
       "      <td>41</td>\n",
       "      <td>1</td>\n",
       "      <td>83807.86</td>\n",
       "      <td>1</td>\n",
       "      <td>0</td>\n",
       "      <td>1</td>\n",
       "      <td>112542.58</td>\n",
       "      <td>0</td>\n",
       "    </tr>\n",
       "    <tr>\n",
       "      <th>2</th>\n",
       "      <td>3</td>\n",
       "      <td>15619304</td>\n",
       "      <td>Onio</td>\n",
       "      <td>502</td>\n",
       "      <td>France</td>\n",
       "      <td>Female</td>\n",
       "      <td>42</td>\n",
       "      <td>8</td>\n",
       "      <td>159660.80</td>\n",
       "      <td>3</td>\n",
       "      <td>1</td>\n",
       "      <td>0</td>\n",
       "      <td>113931.57</td>\n",
       "      <td>1</td>\n",
       "    </tr>\n",
       "    <tr>\n",
       "      <th>3</th>\n",
       "      <td>4</td>\n",
       "      <td>15701354</td>\n",
       "      <td>Boni</td>\n",
       "      <td>699</td>\n",
       "      <td>France</td>\n",
       "      <td>Female</td>\n",
       "      <td>39</td>\n",
       "      <td>1</td>\n",
       "      <td>0.00</td>\n",
       "      <td>2</td>\n",
       "      <td>0</td>\n",
       "      <td>0</td>\n",
       "      <td>93826.63</td>\n",
       "      <td>0</td>\n",
       "    </tr>\n",
       "    <tr>\n",
       "      <th>4</th>\n",
       "      <td>5</td>\n",
       "      <td>15737888</td>\n",
       "      <td>Mitchell</td>\n",
       "      <td>850</td>\n",
       "      <td>Spain</td>\n",
       "      <td>Female</td>\n",
       "      <td>43</td>\n",
       "      <td>2</td>\n",
       "      <td>125510.82</td>\n",
       "      <td>1</td>\n",
       "      <td>1</td>\n",
       "      <td>1</td>\n",
       "      <td>79084.10</td>\n",
       "      <td>0</td>\n",
       "    </tr>\n",
       "  </tbody>\n",
       "</table>\n",
       "</div>"
      ],
      "text/plain": [
       "   RowNumber  CustomerId   Surname  CreditScore Geography  Gender  Age  \\\n",
       "0          1    15634602  Hargrave          619    France  Female   42   \n",
       "1          2    15647311      Hill          608     Spain  Female   41   \n",
       "2          3    15619304      Onio          502    France  Female   42   \n",
       "3          4    15701354      Boni          699    France  Female   39   \n",
       "4          5    15737888  Mitchell          850     Spain  Female   43   \n",
       "\n",
       "   Tenure    Balance  NumOfProducts  HasCrCard  IsActiveMember  \\\n",
       "0       2       0.00              1          1               1   \n",
       "1       1   83807.86              1          0               1   \n",
       "2       8  159660.80              3          1               0   \n",
       "3       1       0.00              2          0               0   \n",
       "4       2  125510.82              1          1               1   \n",
       "\n",
       "   EstimatedSalary  Exited  \n",
       "0        101348.88       1  \n",
       "1        112542.58       0  \n",
       "2        113931.57       1  \n",
       "3         93826.63       0  \n",
       "4         79084.10       0  "
      ]
     },
     "execution_count": 38,
     "metadata": {},
     "output_type": "execute_result"
    }
   ],
   "source": [
    "dataset.head()"
   ]
  },
  {
   "cell_type": "code",
   "execution_count": 39,
   "metadata": {},
   "outputs": [
    {
     "name": "stdout",
     "output_type": "stream",
     "text": [
      "<class 'pandas.core.frame.DataFrame'>\n",
      "RangeIndex: 10000 entries, 0 to 9999\n",
      "Data columns (total 14 columns):\n",
      " #   Column           Non-Null Count  Dtype  \n",
      "---  ------           --------------  -----  \n",
      " 0   RowNumber        10000 non-null  int64  \n",
      " 1   CustomerId       10000 non-null  int64  \n",
      " 2   Surname          10000 non-null  object \n",
      " 3   CreditScore      10000 non-null  int64  \n",
      " 4   Geography        10000 non-null  object \n",
      " 5   Gender           10000 non-null  object \n",
      " 6   Age              10000 non-null  int64  \n",
      " 7   Tenure           10000 non-null  int64  \n",
      " 8   Balance          10000 non-null  float64\n",
      " 9   NumOfProducts    10000 non-null  int64  \n",
      " 10  HasCrCard        10000 non-null  int64  \n",
      " 11  IsActiveMember   10000 non-null  int64  \n",
      " 12  EstimatedSalary  10000 non-null  float64\n",
      " 13  Exited           10000 non-null  int64  \n",
      "dtypes: float64(2), int64(9), object(3)\n",
      "memory usage: 1.1+ MB\n"
     ]
    }
   ],
   "source": [
    "dataset.info()"
   ]
  },
  {
   "cell_type": "markdown",
   "metadata": {},
   "source": [
    "So we have 3 catagorical columns and none of the columns have null values. Further the column no 0 to 3 does not give any significance to the model. so lets drop the same."
   ]
  },
  {
   "cell_type": "code",
   "execution_count": 40,
   "metadata": {},
   "outputs": [],
   "source": [
    "dataset = dataset.drop(columns=['RowNumber','CustomerId','Surname'],axis=1)"
   ]
  },
  {
   "cell_type": "code",
   "execution_count": 41,
   "metadata": {},
   "outputs": [
    {
     "data": {
      "text/html": [
       "<div>\n",
       "<style scoped>\n",
       "    .dataframe tbody tr th:only-of-type {\n",
       "        vertical-align: middle;\n",
       "    }\n",
       "\n",
       "    .dataframe tbody tr th {\n",
       "        vertical-align: top;\n",
       "    }\n",
       "\n",
       "    .dataframe thead th {\n",
       "        text-align: right;\n",
       "    }\n",
       "</style>\n",
       "<table border=\"1\" class=\"dataframe\">\n",
       "  <thead>\n",
       "    <tr style=\"text-align: right;\">\n",
       "      <th></th>\n",
       "      <th>CreditScore</th>\n",
       "      <th>Geography</th>\n",
       "      <th>Gender</th>\n",
       "      <th>Age</th>\n",
       "      <th>Tenure</th>\n",
       "      <th>Balance</th>\n",
       "      <th>NumOfProducts</th>\n",
       "      <th>HasCrCard</th>\n",
       "      <th>IsActiveMember</th>\n",
       "      <th>EstimatedSalary</th>\n",
       "      <th>Exited</th>\n",
       "    </tr>\n",
       "  </thead>\n",
       "  <tbody>\n",
       "    <tr>\n",
       "      <th>0</th>\n",
       "      <td>619</td>\n",
       "      <td>France</td>\n",
       "      <td>Female</td>\n",
       "      <td>42</td>\n",
       "      <td>2</td>\n",
       "      <td>0.00</td>\n",
       "      <td>1</td>\n",
       "      <td>1</td>\n",
       "      <td>1</td>\n",
       "      <td>101348.88</td>\n",
       "      <td>1</td>\n",
       "    </tr>\n",
       "    <tr>\n",
       "      <th>1</th>\n",
       "      <td>608</td>\n",
       "      <td>Spain</td>\n",
       "      <td>Female</td>\n",
       "      <td>41</td>\n",
       "      <td>1</td>\n",
       "      <td>83807.86</td>\n",
       "      <td>1</td>\n",
       "      <td>0</td>\n",
       "      <td>1</td>\n",
       "      <td>112542.58</td>\n",
       "      <td>0</td>\n",
       "    </tr>\n",
       "    <tr>\n",
       "      <th>2</th>\n",
       "      <td>502</td>\n",
       "      <td>France</td>\n",
       "      <td>Female</td>\n",
       "      <td>42</td>\n",
       "      <td>8</td>\n",
       "      <td>159660.80</td>\n",
       "      <td>3</td>\n",
       "      <td>1</td>\n",
       "      <td>0</td>\n",
       "      <td>113931.57</td>\n",
       "      <td>1</td>\n",
       "    </tr>\n",
       "    <tr>\n",
       "      <th>3</th>\n",
       "      <td>699</td>\n",
       "      <td>France</td>\n",
       "      <td>Female</td>\n",
       "      <td>39</td>\n",
       "      <td>1</td>\n",
       "      <td>0.00</td>\n",
       "      <td>2</td>\n",
       "      <td>0</td>\n",
       "      <td>0</td>\n",
       "      <td>93826.63</td>\n",
       "      <td>0</td>\n",
       "    </tr>\n",
       "    <tr>\n",
       "      <th>4</th>\n",
       "      <td>850</td>\n",
       "      <td>Spain</td>\n",
       "      <td>Female</td>\n",
       "      <td>43</td>\n",
       "      <td>2</td>\n",
       "      <td>125510.82</td>\n",
       "      <td>1</td>\n",
       "      <td>1</td>\n",
       "      <td>1</td>\n",
       "      <td>79084.10</td>\n",
       "      <td>0</td>\n",
       "    </tr>\n",
       "  </tbody>\n",
       "</table>\n",
       "</div>"
      ],
      "text/plain": [
       "   CreditScore Geography  Gender  Age  Tenure    Balance  NumOfProducts  \\\n",
       "0          619    France  Female   42       2       0.00              1   \n",
       "1          608     Spain  Female   41       1   83807.86              1   \n",
       "2          502    France  Female   42       8  159660.80              3   \n",
       "3          699    France  Female   39       1       0.00              2   \n",
       "4          850     Spain  Female   43       2  125510.82              1   \n",
       "\n",
       "   HasCrCard  IsActiveMember  EstimatedSalary  Exited  \n",
       "0          1               1        101348.88       1  \n",
       "1          0               1        112542.58       0  \n",
       "2          1               0        113931.57       1  \n",
       "3          0               0         93826.63       0  \n",
       "4          1               1         79084.10       0  "
      ]
     },
     "execution_count": 41,
     "metadata": {},
     "output_type": "execute_result"
    }
   ],
   "source": [
    "dataset.head()"
   ]
  },
  {
   "cell_type": "code",
   "execution_count": 42,
   "metadata": {},
   "outputs": [],
   "source": [
    "x=dataset.iloc[:,:-1]\n",
    "y=dataset.iloc[:,-1]"
   ]
  },
  {
   "cell_type": "code",
   "execution_count": 43,
   "metadata": {},
   "outputs": [],
   "source": [
    "Geography= pd.get_dummies(x['Geography'])\n",
    "Gender=pd.get_dummies(x['Gender'])"
   ]
  },
  {
   "cell_type": "code",
   "execution_count": 44,
   "metadata": {},
   "outputs": [],
   "source": [
    "x=x.drop(['Geography','Gender'],axis=1)"
   ]
  },
  {
   "cell_type": "code",
   "execution_count": 45,
   "metadata": {},
   "outputs": [],
   "source": [
    "x=pd.concat([x,Geography,Gender],axis=1)"
   ]
  },
  {
   "cell_type": "code",
   "execution_count": 71,
   "metadata": {},
   "outputs": [],
   "source": [
    "from sklearn.model_selection import train_test_split\n",
    "x_train,x_test,y_train,y_test=train_test_split(x,y,test_size=0.2,random_state =0)"
   ]
  },
  {
   "cell_type": "markdown",
   "metadata": {},
   "source": [
    "# Feature scaling"
   ]
  },
  {
   "cell_type": "code",
   "execution_count": 72,
   "metadata": {},
   "outputs": [],
   "source": [
    "from sklearn.preprocessing import StandardScaler\n",
    "sc=StandardScaler()"
   ]
  },
  {
   "cell_type": "code",
   "execution_count": 74,
   "metadata": {},
   "outputs": [],
   "source": [
    "x_train=sc.fit_transform(x_train)\n",
    "x_test =sc.fit_transform(x_test)"
   ]
  },
  {
   "cell_type": "markdown",
   "metadata": {},
   "source": [
    "# ANN"
   ]
  },
  {
   "cell_type": "code",
   "execution_count": 75,
   "metadata": {},
   "outputs": [
    {
     "name": "stderr",
     "output_type": "stream",
     "text": [
      "Using TensorFlow backend.\n"
     ]
    }
   ],
   "source": [
    "import keras"
   ]
  },
  {
   "cell_type": "code",
   "execution_count": 77,
   "metadata": {},
   "outputs": [],
   "source": [
    "from keras.models import Sequential\n"
   ]
  },
  {
   "cell_type": "code",
   "execution_count": 78,
   "metadata": {},
   "outputs": [],
   "source": [
    "from keras.layers import Dense"
   ]
  },
  {
   "cell_type": "code",
   "execution_count": 84,
   "metadata": {},
   "outputs": [],
   "source": [
    "from keras.layers import LeakyReLU,ELU,PReLU"
   ]
  },
  {
   "cell_type": "code",
   "execution_count": 85,
   "metadata": {},
   "outputs": [],
   "source": [
    "from keras.layers import Dropout\n"
   ]
  },
  {
   "cell_type": "markdown",
   "metadata": {},
   "source": [
    "Initializing ANN"
   ]
  },
  {
   "cell_type": "code",
   "execution_count": 86,
   "metadata": {},
   "outputs": [],
   "source": [
    "classifier=Sequential()"
   ]
  },
  {
   "cell_type": "markdown",
   "metadata": {},
   "source": [
    "Adding the first input layer and hidden layer"
   ]
  },
  {
   "cell_type": "code",
   "execution_count": 88,
   "metadata": {},
   "outputs": [
    {
     "name": "stderr",
     "output_type": "stream",
     "text": [
      "C:\\Users\\admin\\Anaconda3\\lib\\site-packages\\ipykernel_launcher.py:1: UserWarning: Update your `Dense` call to the Keras 2 API: `Dense(activation=\"relu\", input_dim=13, units=6, kernel_initializer=\"he_uniform\")`\n",
      "  \"\"\"Entry point for launching an IPython kernel.\n"
     ]
    }
   ],
   "source": [
    "classifier.add(Dense(output_dim = 6, init = 'he_uniform',activation='relu',input_dim = 13))\n"
   ]
  },
  {
   "cell_type": "markdown",
   "metadata": {},
   "source": [
    "Adding the second hidden layer\n"
   ]
  },
  {
   "cell_type": "code",
   "execution_count": 89,
   "metadata": {},
   "outputs": [
    {
     "name": "stderr",
     "output_type": "stream",
     "text": [
      "C:\\Users\\admin\\Anaconda3\\lib\\site-packages\\ipykernel_launcher.py:1: UserWarning: Update your `Dense` call to the Keras 2 API: `Dense(activation=\"relu\", units=6, kernel_initializer=\"he_uniform\")`\n",
      "  \"\"\"Entry point for launching an IPython kernel.\n"
     ]
    }
   ],
   "source": [
    "classifier.add(Dense(output_dim = 6, init = 'he_uniform',activation='relu'))"
   ]
  },
  {
   "cell_type": "markdown",
   "metadata": {},
   "source": [
    "Adding the second output layer\n"
   ]
  },
  {
   "cell_type": "code",
   "execution_count": 90,
   "metadata": {},
   "outputs": [
    {
     "name": "stderr",
     "output_type": "stream",
     "text": [
      "C:\\Users\\admin\\Anaconda3\\lib\\site-packages\\ipykernel_launcher.py:1: UserWarning: Update your `Dense` call to the Keras 2 API: `Dense(activation=\"sigmoid\", units=1, kernel_initializer=\"glorot_uniform\")`\n",
      "  \"\"\"Entry point for launching an IPython kernel.\n"
     ]
    }
   ],
   "source": [
    "classifier.add(Dense(output_dim = 1, init = 'glorot_uniform',activation='sigmoid'))"
   ]
  },
  {
   "cell_type": "markdown",
   "metadata": {},
   "source": [
    "Compiling the ANN"
   ]
  },
  {
   "cell_type": "code",
   "execution_count": 91,
   "metadata": {},
   "outputs": [],
   "source": [
    "classifier.compile(optimizer = 'Adamax', loss = 'binary_crossentropy', metrics = ['accuracy'])"
   ]
  },
  {
   "cell_type": "markdown",
   "metadata": {},
   "source": [
    "Fitting the ANN to the Training set\n"
   ]
  },
  {
   "cell_type": "code",
   "execution_count": 92,
   "metadata": {},
   "outputs": [
    {
     "name": "stderr",
     "output_type": "stream",
     "text": [
      "C:\\Users\\admin\\Anaconda3\\lib\\site-packages\\ipykernel_launcher.py:1: UserWarning: The `nb_epoch` argument in `fit` has been renamed `epochs`.\n",
      "  \"\"\"Entry point for launching an IPython kernel.\n"
     ]
    },
    {
     "name": "stdout",
     "output_type": "stream",
     "text": [
      "Train on 5359 samples, validate on 2641 samples\n",
      "Epoch 1/100\n",
      "5359/5359 [==============================] - 3s 580us/step - loss: 0.5546 - accuracy: 0.7485 - val_loss: 0.5028 - val_accuracy: 0.7955\n",
      "Epoch 2/100\n",
      "5359/5359 [==============================] - 1s 201us/step - loss: 0.4851 - accuracy: 0.7962 - val_loss: 0.4773 - val_accuracy: 0.7955\n",
      "Epoch 3/100\n",
      "5359/5359 [==============================] - 1s 201us/step - loss: 0.4663 - accuracy: 0.7962 - val_loss: 0.4640 - val_accuracy: 0.7955\n",
      "Epoch 4/100\n",
      "5359/5359 [==============================] - 1s 195us/step - loss: 0.4549 - accuracy: 0.7962 - val_loss: 0.4557 - val_accuracy: 0.7955\n",
      "Epoch 5/100\n",
      "5359/5359 [==============================] - 1s 198us/step - loss: 0.4474 - accuracy: 0.7962 - val_loss: 0.4505 - val_accuracy: 0.7955\n",
      "Epoch 6/100\n",
      "5359/5359 [==============================] - 1s 203us/step - loss: 0.4428 - accuracy: 0.7962 - val_loss: 0.4472 - val_accuracy: 0.7955\n",
      "Epoch 7/100\n",
      "5359/5359 [==============================] - 1s 196us/step - loss: 0.4393 - accuracy: 0.7962 - val_loss: 0.4447 - val_accuracy: 0.7955\n",
      "Epoch 8/100\n",
      "5359/5359 [==============================] - 1s 230us/step - loss: 0.4367 - accuracy: 0.7962 - val_loss: 0.4427 - val_accuracy: 0.7955\n",
      "Epoch 9/100\n",
      "5359/5359 [==============================] - 1s 212us/step - loss: 0.4347 - accuracy: 0.7962 - val_loss: 0.4413 - val_accuracy: 0.7955\n",
      "Epoch 10/100\n",
      "5359/5359 [==============================] - 1s 204us/step - loss: 0.4330 - accuracy: 0.7985 - val_loss: 0.4402 - val_accuracy: 0.8069\n",
      "Epoch 11/100\n",
      "5359/5359 [==============================] - 1s 201us/step - loss: 0.4318 - accuracy: 0.8056 - val_loss: 0.4392 - val_accuracy: 0.8069\n",
      "Epoch 12/100\n",
      "5359/5359 [==============================] - 1s 215us/step - loss: 0.4307 - accuracy: 0.8067 - val_loss: 0.4382 - val_accuracy: 0.8065\n",
      "Epoch 13/100\n",
      "5359/5359 [==============================] - 1s 197us/step - loss: 0.4296 - accuracy: 0.8054 - val_loss: 0.4374 - val_accuracy: 0.8058\n",
      "Epoch 14/100\n",
      "5359/5359 [==============================] - 1s 199us/step - loss: 0.4286 - accuracy: 0.8059 - val_loss: 0.4367 - val_accuracy: 0.8054\n",
      "Epoch 15/100\n",
      "5359/5359 [==============================] - 1s 199us/step - loss: 0.4278 - accuracy: 0.8069 - val_loss: 0.4360 - val_accuracy: 0.8042\n",
      "Epoch 16/100\n",
      "5359/5359 [==============================] - 1s 198us/step - loss: 0.4267 - accuracy: 0.8097 - val_loss: 0.4363 - val_accuracy: 0.8046\n",
      "Epoch 17/100\n",
      "5359/5359 [==============================] - 1s 206us/step - loss: 0.4261 - accuracy: 0.8110 - val_loss: 0.4353 - val_accuracy: 0.8042\n",
      "Epoch 18/100\n",
      "5359/5359 [==============================] - 1s 209us/step - loss: 0.4253 - accuracy: 0.8121 - val_loss: 0.4349 - val_accuracy: 0.8050\n",
      "Epoch 19/100\n",
      "5359/5359 [==============================] - 1s 224us/step - loss: 0.4246 - accuracy: 0.8138 - val_loss: 0.4344 - val_accuracy: 0.8065\n",
      "Epoch 20/100\n",
      "5359/5359 [==============================] - 1s 208us/step - loss: 0.4237 - accuracy: 0.8153 - val_loss: 0.4337 - val_accuracy: 0.8046\n",
      "Epoch 21/100\n",
      "5359/5359 [==============================] - 1s 212us/step - loss: 0.4231 - accuracy: 0.8147 - val_loss: 0.4328 - val_accuracy: 0.8073\n",
      "Epoch 22/100\n",
      "5359/5359 [==============================] - 1s 222us/step - loss: 0.4223 - accuracy: 0.8171 - val_loss: 0.4326 - val_accuracy: 0.8073\n",
      "Epoch 23/100\n",
      "5359/5359 [==============================] - 1s 241us/step - loss: 0.4217 - accuracy: 0.8173 - val_loss: 0.4319 - val_accuracy: 0.8088\n",
      "Epoch 24/100\n",
      "5359/5359 [==============================] - 1s 218us/step - loss: 0.4212 - accuracy: 0.8188 - val_loss: 0.4311 - val_accuracy: 0.8092\n",
      "Epoch 25/100\n",
      "5359/5359 [==============================] - 1s 217us/step - loss: 0.4203 - accuracy: 0.8186 - val_loss: 0.4308 - val_accuracy: 0.8088\n",
      "Epoch 26/100\n",
      "5359/5359 [==============================] - 1s 207us/step - loss: 0.4198 - accuracy: 0.8207 - val_loss: 0.4304 - val_accuracy: 0.8088\n",
      "Epoch 27/100\n",
      "5359/5359 [==============================] - 1s 208us/step - loss: 0.4191 - accuracy: 0.8199 - val_loss: 0.4298 - val_accuracy: 0.8095\n",
      "Epoch 28/100\n",
      "5359/5359 [==============================] - 1s 210us/step - loss: 0.4183 - accuracy: 0.8203 - val_loss: 0.4294 - val_accuracy: 0.8088\n",
      "Epoch 29/100\n",
      "5359/5359 [==============================] - 1s 210us/step - loss: 0.4178 - accuracy: 0.8216 - val_loss: 0.4290 - val_accuracy: 0.8095\n",
      "Epoch 30/100\n",
      "5359/5359 [==============================] - 1s 215us/step - loss: 0.4172 - accuracy: 0.8209 - val_loss: 0.4285 - val_accuracy: 0.8080\n",
      "Epoch 31/100\n",
      "5359/5359 [==============================] - 1s 211us/step - loss: 0.4167 - accuracy: 0.8218 - val_loss: 0.4278 - val_accuracy: 0.8103\n",
      "Epoch 32/100\n",
      "5359/5359 [==============================] - 1s 213us/step - loss: 0.4158 - accuracy: 0.8224 - val_loss: 0.4278 - val_accuracy: 0.8103\n",
      "Epoch 33/100\n",
      "5359/5359 [==============================] - 1s 212us/step - loss: 0.4155 - accuracy: 0.8231 - val_loss: 0.4270 - val_accuracy: 0.8118\n",
      "Epoch 34/100\n",
      "5359/5359 [==============================] - 1s 214us/step - loss: 0.4148 - accuracy: 0.8238 - val_loss: 0.4266 - val_accuracy: 0.8114\n",
      "Epoch 35/100\n",
      "5359/5359 [==============================] - 1s 214us/step - loss: 0.4141 - accuracy: 0.8246 - val_loss: 0.4261 - val_accuracy: 0.8118\n",
      "Epoch 36/100\n",
      "5359/5359 [==============================] - 1s 271us/step - loss: 0.4135 - accuracy: 0.8259 - val_loss: 0.4258 - val_accuracy: 0.8126\n",
      "Epoch 37/100\n",
      "5359/5359 [==============================] - 1s 252us/step - loss: 0.4128 - accuracy: 0.8265 - val_loss: 0.4254 - val_accuracy: 0.8122\n",
      "Epoch 38/100\n",
      "5359/5359 [==============================] - 1s 269us/step - loss: 0.4123 - accuracy: 0.8259 - val_loss: 0.4248 - val_accuracy: 0.8126\n",
      "Epoch 39/100\n",
      "5359/5359 [==============================] - 1s 254us/step - loss: 0.4116 - accuracy: 0.8276 - val_loss: 0.4242 - val_accuracy: 0.8126\n",
      "Epoch 40/100\n",
      "5359/5359 [==============================] - 1s 262us/step - loss: 0.4110 - accuracy: 0.8293 - val_loss: 0.4238 - val_accuracy: 0.8129\n",
      "Epoch 41/100\n",
      "5359/5359 [==============================] - 1s 246us/step - loss: 0.4106 - accuracy: 0.8281 - val_loss: 0.4236 - val_accuracy: 0.8152\n",
      "Epoch 42/100\n",
      "5359/5359 [==============================] - 1s 262us/step - loss: 0.4099 - accuracy: 0.8281 - val_loss: 0.4238 - val_accuracy: 0.8137\n",
      "Epoch 43/100\n",
      "5359/5359 [==============================] - 1s 268us/step - loss: 0.4095 - accuracy: 0.8294 - val_loss: 0.4232 - val_accuracy: 0.8152\n",
      "Epoch 44/100\n",
      "5359/5359 [==============================] - 1s 217us/step - loss: 0.4090 - accuracy: 0.8294 - val_loss: 0.4228 - val_accuracy: 0.8156\n",
      "Epoch 45/100\n",
      "5359/5359 [==============================] - 1s 216us/step - loss: 0.4084 - accuracy: 0.8293 - val_loss: 0.4224 - val_accuracy: 0.8183\n",
      "Epoch 46/100\n",
      "5359/5359 [==============================] - 1s 214us/step - loss: 0.4081 - accuracy: 0.8293 - val_loss: 0.4230 - val_accuracy: 0.8164\n",
      "Epoch 47/100\n",
      "5359/5359 [==============================] - 1s 224us/step - loss: 0.4076 - accuracy: 0.8315 - val_loss: 0.4223 - val_accuracy: 0.8164\n",
      "Epoch 48/100\n",
      "5359/5359 [==============================] - 2s 366us/step - loss: 0.4072 - accuracy: 0.8300 - val_loss: 0.4223 - val_accuracy: 0.8160\n",
      "Epoch 49/100\n",
      "5359/5359 [==============================] - 2s 301us/step - loss: 0.4066 - accuracy: 0.8313 - val_loss: 0.4216 - val_accuracy: 0.8183\n",
      "Epoch 50/100\n",
      "5359/5359 [==============================] - 2s 287us/step - loss: 0.4060 - accuracy: 0.8308 - val_loss: 0.4216 - val_accuracy: 0.8186\n",
      "Epoch 51/100\n",
      "5359/5359 [==============================] - 1s 199us/step - loss: 0.4058 - accuracy: 0.8313 - val_loss: 0.4212 - val_accuracy: 0.8175\n",
      "Epoch 52/100\n",
      "5359/5359 [==============================] - 1s 204us/step - loss: 0.4054 - accuracy: 0.8321 - val_loss: 0.4209 - val_accuracy: 0.8183\n",
      "Epoch 53/100\n",
      "5359/5359 [==============================] - 1s 217us/step - loss: 0.4051 - accuracy: 0.8317 - val_loss: 0.4208 - val_accuracy: 0.8175\n",
      "Epoch 54/100\n",
      "5359/5359 [==============================] - 1s 190us/step - loss: 0.4047 - accuracy: 0.8332 - val_loss: 0.4204 - val_accuracy: 0.8171\n",
      "Epoch 55/100\n",
      "5359/5359 [==============================] - 1s 203us/step - loss: 0.4044 - accuracy: 0.8334 - val_loss: 0.4204 - val_accuracy: 0.8175\n",
      "Epoch 56/100\n",
      "5359/5359 [==============================] - 1s 214us/step - loss: 0.4040 - accuracy: 0.8339 - val_loss: 0.4195 - val_accuracy: 0.8205\n",
      "Epoch 57/100\n",
      "5359/5359 [==============================] - 1s 188us/step - loss: 0.4037 - accuracy: 0.8339 - val_loss: 0.4189 - val_accuracy: 0.8224\n",
      "Epoch 58/100\n",
      "5359/5359 [==============================] - 1s 194us/step - loss: 0.4032 - accuracy: 0.8356 - val_loss: 0.4189 - val_accuracy: 0.8236\n",
      "Epoch 59/100\n",
      "5359/5359 [==============================] - 1s 185us/step - loss: 0.4027 - accuracy: 0.8365 - val_loss: 0.4178 - val_accuracy: 0.8254\n",
      "Epoch 60/100\n",
      "5359/5359 [==============================] - 1s 187us/step - loss: 0.4024 - accuracy: 0.8360 - val_loss: 0.4182 - val_accuracy: 0.8243\n",
      "Epoch 61/100\n",
      "5359/5359 [==============================] - 1s 190us/step - loss: 0.4020 - accuracy: 0.8371 - val_loss: 0.4174 - val_accuracy: 0.8247\n",
      "Epoch 62/100\n",
      "5359/5359 [==============================] - 1s 191us/step - loss: 0.4018 - accuracy: 0.8380 - val_loss: 0.4173 - val_accuracy: 0.8254\n",
      "Epoch 63/100\n",
      "5359/5359 [==============================] - 1s 200us/step - loss: 0.4013 - accuracy: 0.8380 - val_loss: 0.4173 - val_accuracy: 0.8254\n",
      "Epoch 64/100\n",
      "5359/5359 [==============================] - 1s 190us/step - loss: 0.4009 - accuracy: 0.8391 - val_loss: 0.4165 - val_accuracy: 0.8262\n",
      "Epoch 65/100\n",
      "5359/5359 [==============================] - 1s 208us/step - loss: 0.4003 - accuracy: 0.8388 - val_loss: 0.4163 - val_accuracy: 0.8266\n",
      "Epoch 66/100\n",
      "5359/5359 [==============================] - 1s 191us/step - loss: 0.4001 - accuracy: 0.8390 - val_loss: 0.4160 - val_accuracy: 0.8277\n",
      "Epoch 67/100\n",
      "5359/5359 [==============================] - 1s 183us/step - loss: 0.3999 - accuracy: 0.8397 - val_loss: 0.4161 - val_accuracy: 0.8270\n",
      "Epoch 68/100\n",
      "5359/5359 [==============================] - 1s 190us/step - loss: 0.3996 - accuracy: 0.8395 - val_loss: 0.4163 - val_accuracy: 0.8262\n",
      "Epoch 69/100\n",
      "5359/5359 [==============================] - 1s 193us/step - loss: 0.3994 - accuracy: 0.8395 - val_loss: 0.4161 - val_accuracy: 0.8254\n",
      "Epoch 70/100\n",
      "5359/5359 [==============================] - 1s 192us/step - loss: 0.3994 - accuracy: 0.8395 - val_loss: 0.4155 - val_accuracy: 0.8254\n",
      "Epoch 71/100\n",
      "5359/5359 [==============================] - 1s 187us/step - loss: 0.3988 - accuracy: 0.8391 - val_loss: 0.4163 - val_accuracy: 0.8251\n",
      "Epoch 72/100\n",
      "5359/5359 [==============================] - 1s 190us/step - loss: 0.3988 - accuracy: 0.8391 - val_loss: 0.4157 - val_accuracy: 0.8251\n",
      "Epoch 73/100\n",
      "5359/5359 [==============================] - 1s 191us/step - loss: 0.3986 - accuracy: 0.8395 - val_loss: 0.4159 - val_accuracy: 0.8254\n",
      "Epoch 74/100\n",
      "5359/5359 [==============================] - 1s 191us/step - loss: 0.3985 - accuracy: 0.8403 - val_loss: 0.4158 - val_accuracy: 0.8254\n",
      "Epoch 75/100\n",
      "5359/5359 [==============================] - 1s 191us/step - loss: 0.3983 - accuracy: 0.8390 - val_loss: 0.4160 - val_accuracy: 0.8243\n",
      "Epoch 76/100\n",
      "5359/5359 [==============================] - 1s 190us/step - loss: 0.3980 - accuracy: 0.8401 - val_loss: 0.4161 - val_accuracy: 0.8243\n",
      "Epoch 77/100\n",
      "5359/5359 [==============================] - 1s 191us/step - loss: 0.3980 - accuracy: 0.8410 - val_loss: 0.4157 - val_accuracy: 0.8254\n",
      "Epoch 78/100\n",
      "5359/5359 [==============================] - 1s 190us/step - loss: 0.3979 - accuracy: 0.8399 - val_loss: 0.4157 - val_accuracy: 0.8262\n",
      "Epoch 79/100\n",
      "5359/5359 [==============================] - 1s 192us/step - loss: 0.3979 - accuracy: 0.8395 - val_loss: 0.4165 - val_accuracy: 0.8236\n",
      "Epoch 80/100\n",
      "5359/5359 [==============================] - 1s 188us/step - loss: 0.3978 - accuracy: 0.8410 - val_loss: 0.4157 - val_accuracy: 0.8262\n",
      "Epoch 81/100\n",
      "5359/5359 [==============================] - 1s 190us/step - loss: 0.3977 - accuracy: 0.8414 - val_loss: 0.4156 - val_accuracy: 0.8247\n",
      "Epoch 82/100\n",
      "5359/5359 [==============================] - 1s 192us/step - loss: 0.3976 - accuracy: 0.8408 - val_loss: 0.4166 - val_accuracy: 0.8236\n",
      "Epoch 83/100\n",
      "5359/5359 [==============================] - 1s 192us/step - loss: 0.3978 - accuracy: 0.8408 - val_loss: 0.4162 - val_accuracy: 0.8258\n",
      "Epoch 84/100\n",
      "5359/5359 [==============================] - 1s 194us/step - loss: 0.3974 - accuracy: 0.8405 - val_loss: 0.4162 - val_accuracy: 0.8266\n",
      "Epoch 85/100\n",
      "5359/5359 [==============================] - 1s 187us/step - loss: 0.3972 - accuracy: 0.8408 - val_loss: 0.4170 - val_accuracy: 0.8217\n",
      "Epoch 86/100\n",
      "5359/5359 [==============================] - 1s 188us/step - loss: 0.3975 - accuracy: 0.8405 - val_loss: 0.4161 - val_accuracy: 0.8251\n",
      "Epoch 87/100\n",
      "5359/5359 [==============================] - 1s 189us/step - loss: 0.3974 - accuracy: 0.8408 - val_loss: 0.4164 - val_accuracy: 0.8239\n",
      "Epoch 88/100\n",
      "5359/5359 [==============================] - 1s 191us/step - loss: 0.3972 - accuracy: 0.8403 - val_loss: 0.4165 - val_accuracy: 0.8251\n",
      "Epoch 89/100\n",
      "5359/5359 [==============================] - 1s 192us/step - loss: 0.3971 - accuracy: 0.8412 - val_loss: 0.4162 - val_accuracy: 0.8243\n",
      "Epoch 90/100\n",
      "5359/5359 [==============================] - 1s 189us/step - loss: 0.3973 - accuracy: 0.8416 - val_loss: 0.4158 - val_accuracy: 0.8247\n",
      "Epoch 91/100\n",
      "5359/5359 [==============================] - 1s 187us/step - loss: 0.3971 - accuracy: 0.8412 - val_loss: 0.4159 - val_accuracy: 0.8232\n",
      "Epoch 92/100\n",
      "5359/5359 [==============================] - 1s 191us/step - loss: 0.3971 - accuracy: 0.8416 - val_loss: 0.4162 - val_accuracy: 0.8247\n",
      "Epoch 93/100\n",
      "5359/5359 [==============================] - 1s 190us/step - loss: 0.3970 - accuracy: 0.8416 - val_loss: 0.4163 - val_accuracy: 0.8247\n",
      "Epoch 94/100\n",
      "5359/5359 [==============================] - 1s 193us/step - loss: 0.3967 - accuracy: 0.8405 - val_loss: 0.4168 - val_accuracy: 0.8224\n",
      "Epoch 95/100\n",
      "5359/5359 [==============================] - 1s 189us/step - loss: 0.3969 - accuracy: 0.8414 - val_loss: 0.4159 - val_accuracy: 0.8232\n",
      "Epoch 96/100\n",
      "5359/5359 [==============================] - 1s 191us/step - loss: 0.3967 - accuracy: 0.8408 - val_loss: 0.4161 - val_accuracy: 0.8236\n",
      "Epoch 97/100\n",
      "5359/5359 [==============================] - 1s 190us/step - loss: 0.3966 - accuracy: 0.8405 - val_loss: 0.4168 - val_accuracy: 0.8198\n",
      "Epoch 98/100\n",
      "5359/5359 [==============================] - 1s 191us/step - loss: 0.3966 - accuracy: 0.8406 - val_loss: 0.4162 - val_accuracy: 0.8243\n",
      "Epoch 99/100\n",
      "5359/5359 [==============================] - 1s 188us/step - loss: 0.3965 - accuracy: 0.8408 - val_loss: 0.4168 - val_accuracy: 0.8217\n",
      "Epoch 100/100\n",
      "5359/5359 [==============================] - 1s 187us/step - loss: 0.3964 - accuracy: 0.8412 - val_loss: 0.4160 - val_accuracy: 0.8228\n"
     ]
    }
   ],
   "source": [
    "model_history=classifier.fit(x_train, y_train,validation_split=0.33, batch_size = 10, nb_epoch = 100)\n"
   ]
  },
  {
   "cell_type": "markdown",
   "metadata": {},
   "source": [
    "list all data in history\n"
   ]
  },
  {
   "cell_type": "code",
   "execution_count": 93,
   "metadata": {},
   "outputs": [
    {
     "name": "stdout",
     "output_type": "stream",
     "text": [
      "dict_keys(['val_loss', 'val_accuracy', 'loss', 'accuracy'])\n"
     ]
    }
   ],
   "source": [
    "print(model_history.history.keys())"
   ]
  },
  {
   "cell_type": "markdown",
   "metadata": {},
   "source": [
    "# summarize history for accuracy"
   ]
  },
  {
   "cell_type": "code",
   "execution_count": 95,
   "metadata": {},
   "outputs": [
    {
     "data": {
      "image/png": "[encoded data removed]",
      "text/plain": [
       "<Figure size 432x288 with 1 Axes>"
      ]
     },
     "metadata": {
      "needs_background": "light"
     },
     "output_type": "display_data"
    }
   ],
   "source": [
    "plt.plot(model_history.history['accuracy'])\n",
    "plt.plot(model_history.history['val_accuracy'])\n",
    "plt.title('model accuracy')\n",
    "plt.ylabel('accuracy')\n",
    "plt.xlabel('epoch')\n",
    "plt.legend(['train', 'test'], loc='upper left')\n",
    "plt.show()"
   ]
  },
  {
   "cell_type": "markdown",
   "metadata": {},
   "source": [
    "# summarize history for loss\n"
   ]
  },
  {
   "cell_type": "code",
   "execution_count": 96,
   "metadata": {},
   "outputs": [
    {
     "data": {
      "image/png": "[encoded data removed]",
      "text/plain": [
       "<Figure size 432x288 with 1 Axes>"
      ]
     },
     "metadata": {
      "needs_background": "light"
     },
     "output_type": "display_data"
    }
   ],
   "source": [
    "plt.plot(model_history.history['loss'])\n",
    "plt.plot(model_history.history['val_loss'])\n",
    "plt.title('model loss')\n",
    "plt.ylabel('loss')\n",
    "plt.xlabel('epoch')\n",
    "plt.legend(['train', 'test'], loc='upper left')\n",
    "plt.show()"
   ]
  },
  {
   "cell_type": "markdown",
   "metadata": {},
   "source": [
    "# Making the predictions and evaluating the model\n"
   ]
  },
  {
   "cell_type": "code",
   "execution_count": 103,
   "metadata": {},
   "outputs": [],
   "source": [
    "y_pred=classifier.predict(x_test)\n",
    "y_pred = (y_pred>0.5)"
   ]
  },
  {
   "cell_type": "markdown",
   "metadata": {},
   "source": [
    "# calculating the accuracy"
   ]
  },
  {
   "cell_type": "code",
   "execution_count": 98,
   "metadata": {},
   "outputs": [],
   "source": [
    "from sklearn.metrics import accuracy_score"
   ]
  },
  {
   "cell_type": "code",
   "execution_count": 105,
   "metadata": {},
   "outputs": [
    {
     "name": "stdout",
     "output_type": "stream",
     "text": [
      "0.834\n"
     ]
    }
   ],
   "source": [
    "score=print(accuracy_score(y_test,y_pred))"
   ]
  },
  {
   "cell_type": "code",
   "execution_count": null,
   "metadata": {},
   "outputs": [],
   "source": []
  }
 ],
 "metadata": {
  "kernelspec": {
   "display_name": "Python 3",
   "language": "python",
   "name": "python3"
  },
  "language_info": {
   "codemirror_mode": {
    "name": "ipython",
    "version": 3
   },
   "file_extension": ".py",
   "mimetype": "text/x-python",
   "name": "python",
   "nbconvert_exporter": "python",
   "pygments_lexer": "ipython3",
   "version": "3.7.4"
  }
 },
 "nbformat": 4,
 "nbformat_minor": 4
}
